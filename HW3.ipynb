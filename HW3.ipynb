{
 "cells": [
  {
   "cell_type": "code",
   "execution_count": 339,
   "metadata": {},
   "outputs": [],
   "source": [
    "import numpy as np\n",
    "from numpy import linalg as la"
   ]
  },
  {
   "cell_type": "code",
   "execution_count": 173,
   "metadata": {},
   "outputs": [],
   "source": [
    "def skew_3d(omega):\n",
    "\n",
    "    omega_hat = np.matrix([[0, -omega.item(2), omega.item(1)],\n",
    "        [omega.item(2), 0, -omega.item(0)],\n",
    "        [-omega.item(1), omega.item(0), 0]])\n",
    "    return omega_hat"
   ]
  },
  {
   "cell_type": "code",
   "execution_count": 70,
   "metadata": {},
   "outputs": [],
   "source": [
    "identity = np.identity(3)"
   ]
  },
  {
   "cell_type": "code",
   "execution_count": 216,
   "metadata": {},
   "outputs": [],
   "source": [
    "def rod_formula(w, theta):\n",
    "    w_hat = skew_3d(w)\n",
    "    w_hat_square = np.dot(w_hat, w_hat)\n",
    "    exp = identity + np.sin(theta) * w_hat + w_hat_square*(1 - np.cos(theta))\n",
    "    return exp"
   ]
  },
  {
   "cell_type": "code",
   "execution_count": 217,
   "metadata": {},
   "outputs": [],
   "source": [
    "def translation(exp, w, v, theta):\n",
    "    a = (identity - exp)\n",
    "    b = (np.cross(w.reshape(1,3), v.reshape(1,3)))\n",
    "    b = b.reshape(3,1)\n",
    "    c = np.dot(w, np.transpose(w))\n",
    "    d = (np.dot(c, v))\n",
    "    return  a * b + d * theta"
   ]
  },
  {
   "cell_type": "code",
   "execution_count": 218,
   "metadata": {},
   "outputs": [],
   "source": [
    "def getTwist(exp, trans):\n",
    "    twist = np.zeros((4,4))\n",
    "    twist[0:3, 0:3] = exp\n",
    "    twist[0:3, 3:4] = trans\n",
    "    twist[3, 3] = 1\n",
    "    return twist"
   ]
  },
  {
   "cell_type": "code",
   "execution_count": 285,
   "metadata": {},
   "outputs": [
    {
     "name": "stdout",
     "output_type": "stream",
     "text": [
      "twist1:\n",
      "[[ 0.70738827 -0.70682518  0.          0.        ]\n",
      " [ 0.70682518  0.70738827  0.          0.        ]\n",
      " [ 0.          0.          1.          0.        ]\n",
      " [ 0.          0.          0.          1.        ]]\n"
     ]
    }
   ],
   "source": [
    "# Twist 1:\n",
    "w = np.array([0, 0, 1])\n",
    "w = w.reshape(3,1)\n",
    "theta = 0.785\n",
    "exp = rod_formula(w, theta)\n",
    "v = np.array([0,0,0])\n",
    "v = v.reshape(3,1)\n",
    "trans = translation(exp, w, v, theta)\n",
    "twist1 = getTwist(exp, trans)\n",
    "print(\"twist1:\")\n",
    "print(twist1)"
   ]
  },
  {
   "cell_type": "code",
   "execution_count": 286,
   "metadata": {},
   "outputs": [
    {
     "name": "stdout",
     "output_type": "stream",
     "text": [
      "twist2:\n",
      "[[ 1.          0.          0.          0.        ]\n",
      " [ 0.          0.38000003 -0.92498647  4.62493237]\n",
      " [ 0.          0.92498647  0.38000003  3.09999986]\n",
      " [ 0.          0.          0.          1.        ]]\n"
     ]
    }
   ],
   "source": [
    "# Twist 2:\n",
    "w = np.array([-1, 0, 0])\n",
    "w = w.reshape(3,1)\n",
    "theta = -1.181\n",
    "exp = rod_formula(w, theta)\n",
    "v = np.array([0,-5,0])\n",
    "v = v.reshape(3,1)\n",
    "trans = translation(exp, w, v, theta)\n",
    "twist2 = getTwist(exp, trans)\n",
    "print(\"twist2:\")\n",
    "print(twist2)"
   ]
  },
  {
   "cell_type": "code",
   "execution_count": 416,
   "metadata": {},
   "outputs": [
    {
     "name": "stdout",
     "output_type": "stream",
     "text": [
      "[[1 0 0 0]\n",
      " [0 1 0 0]\n",
      " [0 0 1 5]\n",
      " [0 0 0 1]]\n"
     ]
    }
   ],
   "source": [
    "start = np.matrix([[1,0,0,0],\n",
    "                            [0,1,0,0],\n",
    "                            [0,0,1,5],\n",
    "                            [0,0,0,1]])\n",
    "print(start)"
   ]
  },
  {
   "cell_type": "code",
   "execution_count": 417,
   "metadata": {},
   "outputs": [
    {
     "name": "stdout",
     "output_type": "stream",
     "text": [
      "Gwb:\n",
      "[[ 0.70738827 -0.26859359  0.65380373  0.        ]\n",
      " [ 0.70682518  0.26880756 -0.65432458  0.        ]\n",
      " [ 0.          0.92498647  0.38000003  5.        ]\n",
      " [ 0.          0.          0.          1.        ]]\n"
     ]
    }
   ],
   "source": [
    "print('Gwb:')\n",
    "Gwb = twist1  * (twist2 * start)\n",
    "print(Gwb)"
   ]
  },
  {
   "cell_type": "code",
   "execution_count": 290,
   "metadata": {},
   "outputs": [
    {
     "name": "stdout",
     "output_type": "stream",
     "text": [
      "twist3:\n",
      "[[ 1.          0.          0.          0.        ]\n",
      " [ 0.         -0.66702139  0.74503856  2.94289276]\n",
      " [ 0.         -0.74503856 -0.66702139 11.31526122]\n",
      " [ 0.          0.          0.          1.        ]]\n"
     ]
    }
   ],
   "source": [
    "# Twist 3:\n",
    "w = np.array([-1, 0, 0])\n",
    "w = w.reshape(3,1)\n",
    "theta = 2.301\n",
    "exp = rod_formula(w, theta)\n",
    "v = np.array([0,-5,4])\n",
    "v = v.reshape(3,1)\n",
    "trans = translation(exp, w, v, theta)\n",
    "twist3 = getTwist(exp, trans)\n",
    "print(\"twist3:\")\n",
    "print(twist3)"
   ]
  },
  {
   "cell_type": "code",
   "execution_count": 291,
   "metadata": {},
   "outputs": [
    {
     "name": "stdout",
     "output_type": "stream",
     "text": [
      "twist4:\n",
      "[[ 0.39933953  0.91680311  0.         -6.41762176]\n",
      " [-0.91680311  0.39933953  0.          4.20462329]\n",
      " [ 0.          0.          1.          0.        ]\n",
      " [ 0.          0.          0.          1.        ]]\n"
     ]
    }
   ],
   "source": [
    "# Twist 4:\n",
    "w = np.array([0, 0, 1])\n",
    "w = w.reshape(3,1)\n",
    "theta = -1.160\n",
    "exp = rod_formula(w, theta)\n",
    "v = np.array([7,0,0])\n",
    "v = v.reshape(3,1)\n",
    "trans = translation(exp, w, v, theta)\n",
    "twist4 = getTwist(exp, trans)\n",
    "print(\"twist4:\")\n",
    "print(twist4)"
   ]
  },
  {
   "cell_type": "code",
   "execution_count": 309,
   "metadata": {},
   "outputs": [
    {
     "name": "stdout",
     "output_type": "stream",
     "text": [
      "[[1 0 0 0]\n",
      " [0 1 0 7]\n",
      " [0 0 1 5]\n",
      " [0 0 0 1]]\n"
     ]
    }
   ],
   "source": [
    "start = np.matrix([[1,0,0,0],\n",
    "                    [0,1,0,7],\n",
    "                    [0,0,1,5],\n",
    "                    [0,0,0,1]])\n",
    "print(start)"
   ]
  },
  {
   "cell_type": "code",
   "execution_count": 312,
   "metadata": {},
   "outputs": [
    {
     "name": "stdout",
     "output_type": "stream",
     "text": [
      "Gwd(Short Version):\n",
      "[[ 0.56  0.53 -0.64 -2.  ]\n",
      " [-0.    0.77  0.64  2.  ]\n",
      " [ 0.83 -0.36  0.44  6.  ]\n",
      " [ 0.    0.    0.    1.  ]]\n",
      "Gwd(Accurate Version):\n",
      "[[ 0.56481883  0.52555863 -0.63621366 -1.99822833]\n",
      " [-0.00029241  0.77109463  0.63672049  1.9998202 ]\n",
      " [ 0.82521488 -0.35944569  0.43568245  5.99964457]\n",
      " [ 0.          0.          0.          1.        ]]\n"
     ]
    }
   ],
   "source": [
    "Gwd = twist1 * (twist2 * (twist3 * (twist4 * start)))\n",
    "print('Gwd(Short Version):')\n",
    "print(np.around(Gwd,decimals = 2))\n",
    "print('Gwd(Accurate Version):')\n",
    "print(Gwd)"
   ]
  },
  {
   "cell_type": "code",
   "execution_count": 313,
   "metadata": {},
   "outputs": [
    {
     "name": "stdout",
     "output_type": "stream",
     "text": [
      "twist5:\n",
      "[[ 1.          0.          0.          0.        ]\n",
      " [ 0.          0.77124601 -0.63653718  4.78396381]\n",
      " [ 0.          0.63653718  0.77124601 -3.31199035]\n",
      " [ 0.          0.          0.          1.        ]]\n"
     ]
    }
   ],
   "source": [
    "# Twist 5:\n",
    "w = np.array([-1, 0, 0])\n",
    "w = w.reshape(3,1)\n",
    "theta = - 0.690\n",
    "exp = rod_formula(w, theta)\n",
    "v = np.array([0,-5,7])\n",
    "v = v.reshape(3,1)\n",
    "trans = translation(exp, w, v, theta)\n",
    "twist5 = getTwist(exp, trans)\n",
    "print(\"twist5:\")\n",
    "print(twist5)"
   ]
  },
  {
   "cell_type": "code",
   "execution_count": 314,
   "metadata": {},
   "outputs": [
    {
     "name": "stdout",
     "output_type": "stream",
     "text": [
      "twist6:\n",
      "[[ 0.56529953  0.          0.82488571 -4.12442857]\n",
      " [ 0.          1.          0.          0.        ]\n",
      " [-0.82488571  0.          0.56529953  2.17350234]\n",
      " [ 0.          0.          0.          1.        ]]\n"
     ]
    }
   ],
   "source": [
    "# Twist 6:\n",
    "w = np.array([0, 1, 0])\n",
    "w = w.reshape(3,1)\n",
    "theta = 0.970\n",
    "exp = rod_formula(w, theta)\n",
    "v = np.array([-5,0,0])\n",
    "v = v.reshape(3,1)\n",
    "trans = translation(exp, w, v, theta)\n",
    "twist6 = getTwist(exp, trans)\n",
    "print(\"twist6:\")\n",
    "print(twist6)"
   ]
  },
  {
   "cell_type": "code",
   "execution_count": 332,
   "metadata": {},
   "outputs": [
    {
     "name": "stdout",
     "output_type": "stream",
     "text": [
      "[[1 0 0 0]\n",
      " [0 1 0 7]\n",
      " [0 0 1 5]\n",
      " [0 0 0 1]]\n"
     ]
    }
   ],
   "source": [
    "start = np.matrix([[1,0,0,0],\n",
    "                    [0,1,0,7],\n",
    "                    [0,0,1,5],\n",
    "                    [0,0,0,1]])\n",
    "print(start)\n",
    "final = np.matrix([[1,0,0,0],\n",
    "                    [0,1,0,2],\n",
    "                    [0,0,1,0],\n",
    "                    [0,0,0,1]])"
   ]
  },
  {
   "cell_type": "code",
   "execution_count": 338,
   "metadata": {},
   "outputs": [
    {
     "name": "stdout",
     "output_type": "stream",
     "text": [
      "Gwg(Short Version):\n",
      "[[ 1.  0. -0. -2.]\n",
      " [-0.  1. -0.  4.]\n",
      " [ 0.  0.  1.  6.]\n",
      " [ 0.  0.  0.  1.]]\n",
      "Gwg(Accurate Version):\n",
      "[[ 0.99999977  0.00036135 -0.00058259 -1.99750563]\n",
      " [-0.00036141  0.99999993 -0.00010681  3.99982006]\n",
      " [ 0.00058255  0.00010702  0.99999982  5.99985862]\n",
      " [ 0.          0.          0.          1.        ]]\n"
     ]
    }
   ],
   "source": [
    "Gwg = twist1 * (twist2 * (twist3 * (twist4 * (twist5 * (twist6  * start))))) * final\n",
    "print('Gwg(Short Version):')\n",
    "print(np.around(Gwg, decimals = 2))\n",
    "print('Gwg(Accurate Version):')\n",
    "print(Gwg)"
   ]
  },
  {
   "cell_type": "code",
   "execution_count": 504,
   "metadata": {},
   "outputs": [],
   "source": [
    "aaaaa\n",
    "a\n",
    "a\n",
    "def pk1(p, q, r, w):\n",
    "    u = p - r\n",
    "    v = q - r\n",
    "    uPrime = u - w * w.transpose() * u\n",
    "    vPrime = v - w * w.transpose() * v\n",
    "    para1 = w.transpose()*(np.cross(uPrime.transpose(), vPrime.transpose())).transpose()\n",
    "    para2 = uPrime.transpose()*vPrime\n",
    "    return np.arctan2(para1, para2)"
   ]
  },
  {
   "cell_type": "code",
   "execution_count": 537,
   "metadata": {},
   "outputs": [],
   "source": [
    "def pk2(p, q, r, w2, w1):\n",
    "    u = p - r\n",
    "    v = q - r\n",
    "    alpha = ((np.transpose(w1)*w2) * np.transpose(w2)*u - np.transpose(w1)*v)/((np.transpose(w1)*w2) * (np.transpose(w1)*w2) - 1)\n",
    "    alpha = alpha[0].item(0)\n",
    "    beta = ((np.transpose(w1)*w2)*np.transpose(w1)*v - np.transpose(w2)*u)/((np.transpose(w1)*w2) * (np.transpose(w1)*w2) - 1)\n",
    "    beta = beta[0].item(0)\n",
    "    a = (la.norm(u)*la.norm(u) - alpha*alpha - beta*beta - 2*alpha*beta*np.transpose(w1)*w2)\n",
    "    b = (np.power(la.norm(np.cross(np.transpose(w1), np.transpose(w2))), 2))\n",
    "    gammaSquare = a/b\n",
    "    if gammaSquare.all() < 0:\n",
    "        return 'None'\n",
    "    else:\n",
    "        gamma = np.sqrt(gammaSquare).item(0)\n",
    "        negativeGamma = -gamma\n",
    "        z1 = alpha * w1 + beta * w2 + gamma*(np.transpose(np.cross(np.transpose(w1), np.transpose(w2))))\n",
    "        z2 = alpha * w1 + beta * w2 + negativeGamma*(np.transpose(np.cross(np.transpose(w1), np.transpose(w2))))\n",
    "        c1 = z1 + r\n",
    "        c2 = z2 + r\n",
    "        allC = (c1, c2)\n",
    "        i = 0\n",
    "        theta = [None] * len(allC)\n",
    "        for c in allC:\n",
    "            theta[i] = (pk1(c, q, r, w1)[0].item(0), pk1(p, c, r, w2)[0].item(0))\n",
    "            i += 1\n",
    "        return theta"
   ]
  },
  {
   "cell_type": "code",
   "execution_count": 542,
   "metadata": {},
   "outputs": [
    {
     "name": "stdout",
     "output_type": "stream",
     "text": [
      "thetas12:\n",
      "[(-2.356194490192345, 2.6403819701236877), (0.7853981633974483, -1.1808964449373613)]\n"
     ]
    }
   ],
   "source": [
    "p = np.matrix([[0],[2],[2.764]])\n",
    "q = np.matrix([[-2],[2],[6]])\n",
    "r = np.matrix([[0],[0],[5]])\n",
    "w1 = np.matrix([[0],[0],[1]])\n",
    "w2 = np.matrix([[-1],[0],[0]])\n",
    "thetas = pk2(p,q,r,w2,w1)\n",
    "print(\"thetas12:\")\n",
    "print(thetas)"
   ]
  },
  {
   "cell_type": "code",
   "execution_count": 543,
   "metadata": {},
   "outputs": [
    {
     "name": "stdout",
     "output_type": "stream",
     "text": [
      "thetas45:\n",
      "[(1.982241768506251, -2.4516408632162285), (-1.1593508850835421, -0.6899517903735647)]\n"
     ]
    }
   ],
   "source": [
    "p = np.matrix([[0],[9],[5]])\n",
    "q = np.matrix([[1.414],[7.617],[6.273]])\n",
    "r = np.matrix([[0],[7],[5]])\n",
    "w1 = np.matrix([[0],[0],[1]])\n",
    "w2 = np.matrix([[-1],[0],[0]])\n",
    "thetas = pk2(p,q,r,w2,w1)\n",
    "print('thetas45:')\n",
    "print(thetas)"
   ]
  },
  {
   "cell_type": "code",
   "execution_count": 544,
   "metadata": {},
   "outputs": [
    {
     "name": "stdout",
     "output_type": "stream",
     "text": [
      "theta6:\n",
      "[[0.97031171]]\n"
     ]
    }
   ],
   "source": [
    "p = np.matrix([[0],[9],[6]])\n",
    "q = np.matrix([[0.825],[9],[5.565]])\n",
    "r = np.matrix([[0],[7],[5]])\n",
    "w = np.matrix([[0],[1],[0]])\n",
    "theta = pk1(p, q, r, w)\n",
    "print('theta6:')\n",
    "print(theta)"
   ]
  },
  {
   "cell_type": "code",
   "execution_count": null,
   "metadata": {},
   "outputs": [],
   "source": []
  }
 ],
 "metadata": {
  "kernelspec": {
   "display_name": "Python 3",
   "language": "python",
   "name": "python3"
  },
  "language_info": {
   "codemirror_mode": {
    "name": "ipython",
    "version": 3
   },
   "file_extension": ".py",
   "mimetype": "text/x-python",
   "name": "python",
   "nbconvert_exporter": "python",
   "pygments_lexer": "ipython3",
   "version": "3.6.3"
  }
 },
 "nbformat": 4,
 "nbformat_minor": 2
}
